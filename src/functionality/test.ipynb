{
 "cells": [
  {
   "cell_type": "code",
   "execution_count": 61,
   "metadata": {},
   "outputs": [
    {
     "ename": "KeyboardInterrupt",
     "evalue": "",
     "output_type": "error",
     "traceback": [
      "\u001b[0;31m---------------------------------------------------------------------------\u001b[0m",
      "\u001b[0;31mKeyboardInterrupt\u001b[0m                         Traceback (most recent call last)",
      "\u001b[1;32m/Users/sunday/brainfuck/se_final_schedule_bot_project/MyScheduleBot/src/functionality/test.ipynb Cell 5\u001b[0m line \u001b[0;36m1\n\u001b[1;32m     <a href='vscode-notebook-cell:/Users/sunday/brainfuck/se_final_schedule_bot_project/MyScheduleBot/src/functionality/test.ipynb#X16sZmlsZQ%3D%3D?line=14'>15</a>\u001b[0m         \u001b[39mif\u001b[39;00m (datetime_object\u001b[39m.\u001b[39mminute \u001b[39m-\u001b[39m event_test\u001b[39m.\u001b[39mminute) \u001b[39m<\u001b[39m\u001b[39m=\u001b[39m \u001b[39m10\u001b[39m:\n\u001b[1;32m     <a href='vscode-notebook-cell:/Users/sunday/brainfuck/se_final_schedule_bot_project/MyScheduleBot/src/functionality/test.ipynb#X16sZmlsZQ%3D%3D?line=15'>16</a>\u001b[0m             \u001b[39mprint\u001b[39m(\u001b[39m\"\u001b[39m\u001b[39mBrain not fuck\u001b[39m\u001b[39m\"\u001b[39m) \n\u001b[0;32m---> <a href='vscode-notebook-cell:/Users/sunday/brainfuck/se_final_schedule_bot_project/MyScheduleBot/src/functionality/test.ipynb#X16sZmlsZQ%3D%3D?line=17'>18</a>\u001b[0m time\u001b[39m.\u001b[39;49msleep(\u001b[39m300\u001b[39;49m)  \u001b[39m# Fetch the time every 5 mins\u001b[39;00m\n",
      "\u001b[0;31mKeyboardInterrupt\u001b[0m: "
     ]
    }
   ],
   "source": [
    "import time\n",
    "import datetime\n",
    "\n",
    "while True:\n",
    "    current_time = time.strftime(\"%Y-%m-%d %H:%M\")\n",
    "    #print(\"Current Time:\", current_time)\n",
    "    datetime_object = datetime.datetime.strptime(current_time, \"%Y-%m-%d %H:%M\")\n",
    "\n",
    "    event_time = datetime.time(15, 50, 00)\n",
    "    event_date = datetime.date(2023, 10, 18)\n",
    "    event_test = datetime.datetime.combine(event_date, event_time)\n",
    "    \n",
    "    if datetime_object.date() == event_test.date():\n",
    "        if datetime_object.hour == event_test.hour:\n",
    "            if (datetime_object.minute - event_test.minute) <= 10:\n",
    "                print(\"Brain not fuck\") \n",
    "            \n",
    "    time.sleep(300)  # Fetch the time every 5 mins\n"
   ]
  }
 ],
 "metadata": {
  "kernelspec": {
   "display_name": "discord_bot",
   "language": "python",
   "name": "python3"
  },
  "language_info": {
   "codemirror_mode": {
    "name": "ipython",
    "version": 3
   },
   "file_extension": ".py",
   "mimetype": "text/x-python",
   "name": "python",
   "nbconvert_exporter": "python",
   "pygments_lexer": "ipython3",
   "version": "3.9.6"
  },
  "orig_nbformat": 4
 },
 "nbformat": 4,
 "nbformat_minor": 2
}
